{
 "cells": [
  {
   "cell_type": "code",
   "execution_count": 20,
   "id": "a2b3b796",
   "metadata": {},
   "outputs": [],
   "source": [
    "import requests\n",
    "import pandas as pd\n",
    "from bs4 import BeautifulSoup"
   ]
  },
  {
   "cell_type": "code",
   "execution_count": 21,
   "id": "75027807",
   "metadata": {},
   "outputs": [],
   "source": [
    "#extracting the webpage that we want to parse\n",
    "def extract(page1, page2):\n",
    "    headers = {'User-Agent': \"Mozilla/5.0 (Macintosh; Intel Mac OS X 10_15_7) AppleWebKit/605.1.15 (KHTML, like Gecko) Version/14.1.1 Safari\"}\n",
    "    url = f\"{page1}={page2}\"\n",
    "    r = requests.get(url, headers)\n",
    "    soup = BeautifulSoup(r.content, 'html.parser')\n",
    "    return soup"
   ]
  },
  {
   "cell_type": "code",
   "execution_count": 22,
   "id": "d1706e6a",
   "metadata": {},
   "outputs": [],
   "source": [
    "#transofmring our raw html data into a readable format\n",
    "def transform_2(soup, destination):\n",
    "    div = soup.find_all('div', class_ = 'slider_container')\n",
    "    for i in div: \n",
    "        title = i.find('div', class_= 'heading4 color-text-primary singleLineTitle tapItem-gutter').text.strip()\n",
    "        name = i.find('span', class_ = \"companyName\").text.strip()\n",
    "        location = i.find('div', class_ = \"heading6 company_location tapItem-gutter companyInfo\").text.strip()\n",
    "        rating = i.find('span', class_ = \"ratingNumber\").text.strip()\n",
    "        summary = i.find('div', class_= 'job-snippet').text.strip()\n",
    "        \n",
    "        #loading our new variables into a dictionary\n",
    "        role = {\n",
    "            'Title': title,\n",
    "            'Company_Name': name,\n",
    "            'Location': location,\n",
    "            'Rating': rating,\n",
    "            'Summary': summary\n",
    "        } \n",
    "        destination.append(role)"
   ]
  },
  {
   "cell_type": "code",
   "execution_count": 37,
   "id": "55cb1af0",
   "metadata": {},
   "outputs": [],
   "source": [
    "#loading our nationwide data into a pandas df\n",
    "job_list = []\n",
    "for i in range(0, 100, 10):\n",
    "    c = extract(\"https://www.indeed.com/jobs?q=Data%20Analytics%20Nationwide&vjk=877ae4112485d7c7&start\",0)\n",
    "    transform_2(c, job_list)"
   ]
  },
  {
   "cell_type": "code",
   "execution_count": 38,
   "id": "f5f79c98",
   "metadata": {},
   "outputs": [],
   "source": [
    "nationwide_df = pd.DataFrame(job_list)"
   ]
  },
  {
   "cell_type": "code",
   "execution_count": null,
   "id": "cb0031c3",
   "metadata": {},
   "outputs": [],
   "source": []
  },
  {
   "cell_type": "code",
   "execution_count": null,
   "id": "db4dc5ef",
   "metadata": {},
   "outputs": [],
   "source": []
  }
 ],
 "metadata": {
  "kernelspec": {
   "display_name": "Python 3 (ipykernel)",
   "language": "python",
   "name": "python3"
  },
  "language_info": {
   "codemirror_mode": {
    "name": "ipython",
    "version": 3
   },
   "file_extension": ".py",
   "mimetype": "text/x-python",
   "name": "python",
   "nbconvert_exporter": "python",
   "pygments_lexer": "ipython3",
   "version": "3.9.6"
  }
 },
 "nbformat": 4,
 "nbformat_minor": 5
}
