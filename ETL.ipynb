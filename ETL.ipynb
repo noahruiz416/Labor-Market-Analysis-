{
 "cells": [
  {
   "cell_type": "code",
   "execution_count": 68,
   "id": "a2b3b796",
   "metadata": {},
   "outputs": [],
   "source": [
    "import requests\n",
    "import pandas as pd\n",
    "import numpy as np\n",
    "from bs4 import BeautifulSoup"
   ]
  },
  {
   "cell_type": "code",
   "execution_count": 69,
   "id": "75027807",
   "metadata": {},
   "outputs": [],
   "source": [
    "#extracting the webpage that we want to parse\n",
    "def extract(page1, page2=None):\n",
    "    headers = {'User-Agent': \"Mozilla/5.0 (Macintosh; Intel Mac OS X 10_15_7) AppleWebKit/605.1.15 (KHTML, like Gecko) Version/14.1.1 Safari\"}\n",
    "    url = f\"{page1}={page2}\"\n",
    "    if page2 == None:\n",
    "        url = f\"{page1}\"\n",
    "    r = requests.get(url, headers)\n",
    "    soup = BeautifulSoup(r.content, 'html.parser')\n",
    "    return soup"
   ]
  },
  {
   "cell_type": "code",
   "execution_count": 70,
   "id": "d1706e6a",
   "metadata": {},
   "outputs": [],
   "source": [
    "#transofmring our raw html data into a readable format\n",
    "def transform_2(soup, destination):\n",
    "    div = soup.find_all('div', class_ = 'slider_container')\n",
    "    for i in div: \n",
    "        title = i.find('div', class_= 'heading4 color-text-primary singleLineTitle tapItem-gutter').text.strip()\n",
    "        name = i.find('span', class_ = \"companyName\").text.strip()\n",
    "        location = i.find('div', class_ = \"heading6 company_location tapItem-gutter companyInfo\").text.strip()\n",
    "        rating = i.find('span', class_ = \"ratingNumber\").text.strip()\n",
    "        summary = i.find('div', class_= 'job-snippet').text.strip()\n",
    "        \n",
    "        #loading our new variables into a dictionary\n",
    "        role = {\n",
    "            'Title': title,\n",
    "            'Company_Name': name,\n",
    "            'Location': location,\n",
    "            'Rating': rating,\n",
    "            'Summary': summary\n",
    "        } \n",
    "        destination.append(role)\n",
    "        \n",
    "def parse_indeed(company, destination, search1=None, search2=None):\n",
    "    for i in range(0, 100, 10):\n",
    "        c = extract(f\"https://www.indeed.com/jobs?q={search1}%20{search2}%20{company}&vjk=877ae4112485d7c7&start\", 0)\n",
    "        transform_2(c, destination)\n"
   ]
  },
  {
   "cell_type": "code",
   "execution_count": 75,
   "id": "55cb1af0",
   "metadata": {},
   "outputs": [],
   "source": [
    "#loading our nationwide data into a pandas df\n",
    "nationwide = []\n",
    "parse_indeed('Nationwide', nationwide,'Data', 'Analytics')"
   ]
  },
  {
   "cell_type": "code",
   "execution_count": 77,
   "id": "60099d63",
   "metadata": {},
   "outputs": [
    {
     "data": {
      "text/plain": [
       "array(['Kwai', 'Rackspace', 'Expedia'], dtype=object)"
      ]
     },
     "execution_count": 77,
     "metadata": {},
     "output_type": "execute_result"
    }
   ],
   "source": [
    "#pulling data from wikipedia list of top 100 technology comapnies, for further data collection\n",
    "r = requests.get(\"https://en.wikipedia.org/wiki/List_of_largest_Internet_companies\")\n",
    "df_list = pd.read_html(r.text) # this parses all the tables in webpages to a list\n",
    "df = df_list[1]\n",
    "top_100 = df['Company']\n",
    "top_100.at[1]='Google'\n",
    "arr = np.array(top_100)\n",
    "rand_arr = np.random.choice(arr, 3)"
   ]
  },
  {
   "cell_type": "code",
   "execution_count": 62,
   "id": "9b9ad55e",
   "metadata": {},
   "outputs": [],
   "source": [
    "total = []\n",
    "\n",
    "for x in arr:\n",
    "    for i in range(0, 100, 10):\n",
    "        try:\n",
    "            y = extract(f\"https://www.indeed.com/jobs?q=Data%20Analytics%20{x}&vjk=877ae4112485d7c7&start\", 0)\n",
    "            transform_2(y, total)\n",
    "        except AttributeError:\n",
    "            print('Ignore')"
   ]
  }
 ],
 "metadata": {
  "kernelspec": {
   "display_name": "Python 3 (ipykernel)",
   "language": "python",
   "name": "python3"
  },
  "language_info": {
   "codemirror_mode": {
    "name": "ipython",
    "version": 3
   },
   "file_extension": ".py",
   "mimetype": "text/x-python",
   "name": "python",
   "nbconvert_exporter": "python",
   "pygments_lexer": "ipython3",
   "version": "3.9.6"
  }
 },
 "nbformat": 4,
 "nbformat_minor": 5
}
